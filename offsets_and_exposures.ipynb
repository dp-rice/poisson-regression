{
 "cells": [
  {
   "cell_type": "code",
   "execution_count": 1,
   "id": "19e230c4-a677-4e99-8fe0-c8b42338d9e0",
   "metadata": {},
   "outputs": [],
   "source": [
    "import numpy as np\n",
    "import matplotlib.pyplot as plt\n",
    "import statsmodels.api as sm\n",
    "\n",
    "rng = np.random.default_rng(seed=100)"
   ]
  },
  {
   "cell_type": "markdown",
   "id": "fea3397c-500b-4990-94a3-fff99147dede",
   "metadata": {},
   "source": [
    "# Offsets and Exposures in GLM for Poisson regression\n",
    "\n",
    "**TLDR:** We should use the keyword `exposure=sequencing_depth` in `statsmodels.GLM` to account for variation in total sequencing depth between timepoints.\n",
    "\n",
    "In our Poisson regression model, we would like to be able to account for the fact that the number of reads supporting a given sequence should increase proportionally with the sequencing depth.\n",
    "That is, if we have twice as many reads on day two than on day one, we expect to see twice as many reads (on average) supporting each sequence.\n",
    "\n",
    "The `statsmodels.GLM` object provides two different ways to account for variations in the mean of the exogenous variable due to known factors: `offset` and `exposure`.\n",
    "However, the documentation isn't 100% clear about how these work.\n",
    "In the following, I'll play around with both to figure out what exactly they mean and how to use them."
   ]
  },
  {
   "cell_type": "code",
   "execution_count": 2,
   "id": "06e7708d-276b-47a7-8a11-ad44a323a1db",
   "metadata": {},
   "outputs": [
    {
     "data": {
      "text/plain": [
       "\u001b[0;31mInit signature:\u001b[0m\n",
       "\u001b[0msm\u001b[0m\u001b[0;34m.\u001b[0m\u001b[0mGLM\u001b[0m\u001b[0;34m(\u001b[0m\u001b[0;34m\u001b[0m\n",
       "\u001b[0;34m\u001b[0m    \u001b[0mendog\u001b[0m\u001b[0;34m,\u001b[0m\u001b[0;34m\u001b[0m\n",
       "\u001b[0;34m\u001b[0m    \u001b[0mexog\u001b[0m\u001b[0;34m,\u001b[0m\u001b[0;34m\u001b[0m\n",
       "\u001b[0;34m\u001b[0m    \u001b[0mfamily\u001b[0m\u001b[0;34m=\u001b[0m\u001b[0;32mNone\u001b[0m\u001b[0;34m,\u001b[0m\u001b[0;34m\u001b[0m\n",
       "\u001b[0;34m\u001b[0m    \u001b[0moffset\u001b[0m\u001b[0;34m=\u001b[0m\u001b[0;32mNone\u001b[0m\u001b[0;34m,\u001b[0m\u001b[0;34m\u001b[0m\n",
       "\u001b[0;34m\u001b[0m    \u001b[0mexposure\u001b[0m\u001b[0;34m=\u001b[0m\u001b[0;32mNone\u001b[0m\u001b[0;34m,\u001b[0m\u001b[0;34m\u001b[0m\n",
       "\u001b[0;34m\u001b[0m    \u001b[0mfreq_weights\u001b[0m\u001b[0;34m=\u001b[0m\u001b[0;32mNone\u001b[0m\u001b[0;34m,\u001b[0m\u001b[0;34m\u001b[0m\n",
       "\u001b[0;34m\u001b[0m    \u001b[0mvar_weights\u001b[0m\u001b[0;34m=\u001b[0m\u001b[0;32mNone\u001b[0m\u001b[0;34m,\u001b[0m\u001b[0;34m\u001b[0m\n",
       "\u001b[0;34m\u001b[0m    \u001b[0mmissing\u001b[0m\u001b[0;34m=\u001b[0m\u001b[0;34m'none'\u001b[0m\u001b[0;34m,\u001b[0m\u001b[0;34m\u001b[0m\n",
       "\u001b[0;34m\u001b[0m    \u001b[0;34m**\u001b[0m\u001b[0mkwargs\u001b[0m\u001b[0;34m,\u001b[0m\u001b[0;34m\u001b[0m\n",
       "\u001b[0;34m\u001b[0m\u001b[0;34m)\u001b[0m\u001b[0;34m\u001b[0m\u001b[0;34m\u001b[0m\u001b[0m\n",
       "\u001b[0;31mDocstring:\u001b[0m     \n",
       "Generalized Linear Models\n",
       "\n",
       "GLM inherits from statsmodels.base.model.LikelihoodModel\n",
       "\n",
       "Parameters\n",
       "----------\n",
       "endog : array_like\n",
       "    1d array of endogenous response variable.  This array can be 1d or 2d.\n",
       "    Binomial family models accept a 2d array with two columns. If\n",
       "    supplied, each observation is expected to be [success, failure].\n",
       "exog : array_like\n",
       "    A nobs x k array where `nobs` is the number of observations and `k`\n",
       "    is the number of regressors. An intercept is not included by default\n",
       "    and should be added by the user (models specified using a formula\n",
       "    include an intercept by default). See `statsmodels.tools.add_constant`.\n",
       "family : family class instance\n",
       "    The default is Gaussian.  To specify the binomial distribution\n",
       "    family = sm.family.Binomial()\n",
       "    Each family can take a link instance as an argument.  See\n",
       "    statsmodels.family.family for more information.\n",
       "offset : array_like or None\n",
       "    An offset to be included in the model.  If provided, must be\n",
       "    an array whose length is the number of rows in exog.\n",
       "exposure : array_like or None\n",
       "    Log(exposure) will be added to the linear prediction in the model.\n",
       "    Exposure is only valid if the log link is used. If provided, it must be\n",
       "    an array with the same length as endog.\n",
       "freq_weights : array_like\n",
       "    1d array of frequency weights. The default is None. If None is selected\n",
       "    or a blank value, then the algorithm will replace with an array of 1's\n",
       "    with length equal to the endog.\n",
       "    WARNING: Using weights is not verified yet for all possible options\n",
       "    and results, see Notes.\n",
       "var_weights : array_like\n",
       "    1d array of variance (analytic) weights. The default is None. If None\n",
       "    is selected or a blank value, then the algorithm will replace with an\n",
       "    array of 1's with length equal to the endog.\n",
       "    WARNING: Using weights is not verified yet for all possible options\n",
       "    and results, see Notes.\n",
       "missing : str\n",
       "    Available options are 'none', 'drop', and 'raise'. If 'none', no nan\n",
       "    checking is done. If 'drop', any observations with nans are dropped.\n",
       "    If 'raise', an error is raised. Default is 'none'.\n",
       "\n",
       "Attributes\n",
       "----------\n",
       "df_model : float\n",
       "    Model degrees of freedom is equal to p - 1, where p is the number\n",
       "    of regressors.  Note that the intercept is not reported as a\n",
       "    degree of freedom.\n",
       "df_resid : float\n",
       "    Residual degrees of freedom is equal to the number of observation n\n",
       "    minus the number of regressors p.\n",
       "endog : ndarray\n",
       "    See Notes.  Note that `endog` is a reference to the data so that if\n",
       "    data is already an array and it is changed, then `endog` changes\n",
       "    as well.\n",
       "exposure : array_like\n",
       "    Include ln(exposure) in model with coefficient constrained to 1. Can\n",
       "    only be used if the link is the logarithm function.\n",
       "exog : ndarray\n",
       "    See Notes.  Note that `exog` is a reference to the data so that if\n",
       "    data is already an array and it is changed, then `exog` changes\n",
       "    as well.\n",
       "freq_weights : ndarray\n",
       "    See Notes. Note that `freq_weights` is a reference to the data so that\n",
       "    if data is already an array and it is changed, then `freq_weights`\n",
       "    changes as well.\n",
       "var_weights : ndarray\n",
       "    See Notes. Note that `var_weights` is a reference to the data so that\n",
       "    if data is already an array and it is changed, then `var_weights`\n",
       "    changes as well.\n",
       "iteration : int\n",
       "    The number of iterations that fit has run.  Initialized at 0.\n",
       "family : family class instance\n",
       "    The distribution family of the model. Can be any family in\n",
       "    statsmodels.families.  Default is Gaussian.\n",
       "mu : ndarray\n",
       "    The mean response of the transformed variable.  `mu` is the value of\n",
       "    the inverse of the link function at lin_pred, where lin_pred is the\n",
       "    linear predicted value of the WLS fit of the transformed variable.\n",
       "    `mu` is only available after fit is called.  See\n",
       "    statsmodels.families.family.fitted of the distribution family for more\n",
       "    information.\n",
       "n_trials : ndarray\n",
       "    See Notes. Note that `n_trials` is a reference to the data so that if\n",
       "    data is already an array and it is changed, then `n_trials` changes\n",
       "    as well. `n_trials` is the number of binomial trials and only available\n",
       "    with that distribution. See statsmodels.families.Binomial for more\n",
       "    information.\n",
       "normalized_cov_params : ndarray\n",
       "    The p x p normalized covariance of the design / exogenous data.\n",
       "    This is approximately equal to (X.T X)^(-1)\n",
       "offset : array_like\n",
       "    Include offset in model with coefficient constrained to 1.\n",
       "scale : float\n",
       "    The estimate of the scale / dispersion of the model fit.  Only\n",
       "    available after fit is called.  See GLM.fit and GLM.estimate_scale\n",
       "    for more information.\n",
       "scaletype : str\n",
       "    The scaling used for fitting the model.  This is only available after\n",
       "    fit is called.  The default is None.  See GLM.fit for more information.\n",
       "weights : ndarray\n",
       "    The value of the weights after the last iteration of fit.  Only\n",
       "    available after fit is called.  See statsmodels.families.family for\n",
       "    the specific distribution weighting functions.\n",
       "\n",
       "Examples\n",
       "--------\n",
       ">>> import statsmodels.api as sm\n",
       ">>> data = sm.datasets.scotland.load()\n",
       ">>> data.exog = sm.add_constant(data.exog)\n",
       "\n",
       "Instantiate a gamma family model with the default link function.\n",
       "\n",
       ">>> gamma_model = sm.GLM(data.endog, data.exog,\n",
       "...                      family=sm.families.Gamma())\n",
       "\n",
       ">>> gamma_results = gamma_model.fit()\n",
       ">>> gamma_results.params\n",
       "array([-0.01776527,  0.00004962,  0.00203442, -0.00007181,  0.00011185,\n",
       "       -0.00000015, -0.00051868, -0.00000243])\n",
       ">>> gamma_results.scale\n",
       "0.0035842831734919055\n",
       ">>> gamma_results.deviance\n",
       "0.087388516416999198\n",
       ">>> gamma_results.pearson_chi2\n",
       "0.086022796163805704\n",
       ">>> gamma_results.llf\n",
       "-83.017202161073527\n",
       "\n",
       "See Also\n",
       "--------\n",
       "statsmodels.genmod.families.family.Family\n",
       ":ref:`families`\n",
       ":ref:`links`\n",
       "\n",
       "Notes\n",
       "-----\n",
       "Only the following combinations make sense for family and link:\n",
       "\n",
       " ============= ===== === ===== ====== ======= === ==== ====== ====== ====\n",
       " Family        ident log logit probit cloglog pow opow nbinom loglog logc\n",
       " ============= ===== === ===== ====== ======= === ==== ====== ====== ====\n",
       " Gaussian      x     x   x     x      x       x   x     x      x\n",
       " inv Gaussian  x     x                        x\n",
       " binomial      x     x   x     x      x       x   x           x      x\n",
       " Poisson       x     x                        x\n",
       " neg binomial  x     x                        x        x\n",
       " gamma         x     x                        x\n",
       " Tweedie       x     x                        x\n",
       " ============= ===== === ===== ====== ======= === ==== ====== ====== ====\n",
       "\n",
       "Not all of these link functions are currently available.\n",
       "\n",
       "Endog and exog are references so that if the data they refer to are already\n",
       "arrays and these arrays are changed, endog and exog will change.\n",
       "\n",
       "statsmodels supports two separate definitions of weights: frequency weights\n",
       "and variance weights.\n",
       "\n",
       "Frequency weights produce the same results as repeating observations by the\n",
       "frequencies (if those are integers). Frequency weights will keep the number\n",
       "of observations consistent, but the degrees of freedom will change to\n",
       "reflect the new weights.\n",
       "\n",
       "Variance weights (referred to in other packages as analytic weights) are\n",
       "used when ``endog`` represents an an average or mean. This relies on the\n",
       "assumption that that the inverse variance scales proportionally to the\n",
       "weight--an observation that is deemed more credible should have less\n",
       "variance and therefore have more weight. For the ``Poisson`` family--which\n",
       "assumes that occurrences scale proportionally with time--a natural practice\n",
       "would be to use the amount of time as the variance weight and set ``endog``\n",
       "to be a rate (occurrences per period of time). Similarly, using a\n",
       "compound Poisson family, namely ``Tweedie``, makes a similar assumption\n",
       "about the rate (or frequency) of occurrences having variance proportional to\n",
       "time.\n",
       "\n",
       "Both frequency and variance weights are verified for all basic results with\n",
       "nonrobust or heteroscedasticity robust ``cov_type``. Other robust\n",
       "covariance types have not yet been verified, and at least the small sample\n",
       "correction is currently not based on the correct total frequency count.\n",
       "\n",
       "Currently, all residuals are not weighted by frequency, although they may\n",
       "incorporate ``n_trials`` for ``Binomial`` and ``var_weights``\n",
       "\n",
       "+---------------+----------------------------------+\n",
       "| Residual Type | Applicable weights               |\n",
       "+===============+==================================+\n",
       "| Anscombe      | ``var_weights``                  |\n",
       "+---------------+----------------------------------+\n",
       "| Deviance      | ``var_weights``                  |\n",
       "+---------------+----------------------------------+\n",
       "| Pearson       | ``var_weights`` and ``n_trials`` |\n",
       "+---------------+----------------------------------+\n",
       "| Reponse       | ``n_trials``                     |\n",
       "+---------------+----------------------------------+\n",
       "| Working       | ``n_trials``                     |\n",
       "+---------------+----------------------------------+\n",
       "\n",
       "WARNING: Loglikelihood and deviance are not valid in models where\n",
       "scale is equal to 1 (i.e., ``Binomial``, ``NegativeBinomial``, and\n",
       "``Poisson``). If variance weights are specified, then results such as\n",
       "``loglike`` and ``deviance`` are based on a quasi-likelihood\n",
       "interpretation. The loglikelihood is not correctly specified in this case,\n",
       "and statistics based on it, such AIC or likelihood ratio tests, are not\n",
       "appropriate.\n",
       "\u001b[0;31mFile:\u001b[0m           ~/repos/NAO/poisson_regression/env/lib/python3.9/site-packages/statsmodels/genmod/generalized_linear_model.py\n",
       "\u001b[0;31mType:\u001b[0m           type\n",
       "\u001b[0;31mSubclasses:\u001b[0m     GEE, GLMGam\n"
      ]
     },
     "metadata": {},
     "output_type": "display_data"
    }
   ],
   "source": [
    "?sm.GLM"
   ]
  },
  {
   "cell_type": "markdown",
   "id": "d03d5642-60d1-4e2a-9728-889c7429f6a0",
   "metadata": {},
   "source": [
    "We'll consider a simple example: $k \\sim \\text{Poisson}(e^j)$.\n",
    "With no offsets or exposures, we expect $\\hat{\\beta_0} \\approx 0$ and $\\hat{\\beta_1} \\approx 1$."
   ]
  },
  {
   "cell_type": "code",
   "execution_count": 3,
   "id": "75f81e4a-95ac-4051-ab94-2dd6b663b70d",
   "metadata": {},
   "outputs": [],
   "source": [
    "def poisson_regression(k, **kwargs):\n",
    "    fit = sm.GLM(\n",
    "        k,\n",
    "        sm.add_constant(np.arange(len(k))),\n",
    "        family=sm.families.Poisson(),\n",
    "        **kwargs,\n",
    "    ).fit()\n",
    "    print(f\"beta_0 = {fit.params[0]:.3f}\\nbeta_1 = {fit.params[1]:.3f}\")\n",
    "    return fit"
   ]
  },
  {
   "cell_type": "code",
   "execution_count": 4,
   "id": "f94eb37c-c5ca-4ea1-97af-ff2da13aab73",
   "metadata": {},
   "outputs": [
    {
     "name": "stdout",
     "output_type": "stream",
     "text": [
      "beta_0 = 0.002\n",
      "beta_1 = 1.000\n"
     ]
    },
    {
     "data": {
      "text/plain": [
       "[<matplotlib.lines.Line2D at 0x126a2d310>]"
      ]
     },
     "execution_count": 4,
     "metadata": {},
     "output_type": "execute_result"
    },
    {
     "data": {
      "image/png": "[encoded data removed]",
      "text/plain": [
       "<Figure size 640x480 with 1 Axes>"
      ]
     },
     "metadata": {},
     "output_type": "display_data"
    }
   ],
   "source": [
    "j = np.arange(16)\n",
    "k = rng.poisson(np.exp(j))\n",
    "fit = poisson_regression(k)\n",
    "plt.scatter(j, k)\n",
    "plt.semilogy(j, fit.fittedvalues)"
   ]
  },
  {
   "cell_type": "markdown",
   "id": "1a775673-3ad5-40cd-9415-8dc7d23cfb56",
   "metadata": {},
   "source": [
    "Now let's try a constant offset of 1:"
   ]
  },
  {
   "cell_type": "code",
   "execution_count": 5,
   "id": "28accdaf-36c2-4cae-a17a-595f1ca0acc5",
   "metadata": {},
   "outputs": [
    {
     "name": "stdout",
     "output_type": "stream",
     "text": [
      "beta_0 = -0.998\n",
      "beta_1 = 1.000\n"
     ]
    }
   ],
   "source": [
    "offset = np.ones_like(k)\n",
    "fit = poisson_regression(k, offset=offset)"
   ]
  },
  {
   "cell_type": "markdown",
   "id": "71212b18-fb3a-45dc-bfbe-30cde41ed965",
   "metadata": {},
   "source": [
    "This shifts $\\hat{\\beta_0}$ down by 1 and leaves $\\hat{\\beta_1}$ alone, suggesting that `offset` works by shifting the linear predictor $\\beta_0 + \\beta_1 j$.\n",
    "We can confirm that by trying a constant offset of 2:"
   ]
  },
  {
   "cell_type": "code",
   "execution_count": 6,
   "id": "6de65f01-269b-42a4-b840-515980023c7c",
   "metadata": {},
   "outputs": [
    {
     "name": "stdout",
     "output_type": "stream",
     "text": [
      "beta_0 = -1.998\n",
      "beta_1 = 1.000\n"
     ]
    }
   ],
   "source": [
    "offset = 2 * np.ones_like(k)\n",
    "fit = poisson_regression(k, offset=offset)"
   ]
  },
  {
   "cell_type": "markdown",
   "id": "6b573a76-ea1a-4fa5-a025-4703ee0db21c",
   "metadata": {},
   "source": [
    "In contrast, a constant exposure of 1 leaves everything unchanged, whereas a constant exposure of $e$ shifts $\\hat{\\beta_0}$ down by 1."
   ]
  },
  {
   "cell_type": "code",
   "execution_count": 7,
   "id": "702f482b-583f-487b-bccb-51f913b491aa",
   "metadata": {},
   "outputs": [
    {
     "name": "stdout",
     "output_type": "stream",
     "text": [
      "beta_0 = 0.002\n",
      "beta_1 = 1.000\n"
     ]
    }
   ],
   "source": [
    "exposure = np.ones_like(k)\n",
    "fit = poisson_regression(k, exposure=exposure)"
   ]
  },
  {
   "cell_type": "code",
   "execution_count": 8,
   "id": "c7951916-1730-4972-834d-0acee2e4e173",
   "metadata": {},
   "outputs": [
    {
     "name": "stdout",
     "output_type": "stream",
     "text": [
      "beta_0 = -0.998\n",
      "beta_1 = 1.000\n"
     ]
    }
   ],
   "source": [
    "exposure = np.exp(np.ones_like(k))\n",
    "fit = poisson_regression(k, exposure=exposure)"
   ]
  },
  {
   "cell_type": "markdown",
   "id": "0fc1ed7e-15d3-473a-bdb7-c84045796d81",
   "metadata": {},
   "source": [
    "This suggests that `exposure` works as multiplicative factor on the scale of the response variable.\n",
    "We can test this by trying an exponentially growing exposure:"
   ]
  },
  {
   "cell_type": "code",
   "execution_count": 9,
   "id": "d917bc66-7563-4920-abf3-f77be8b2d362",
   "metadata": {},
   "outputs": [
    {
     "name": "stdout",
     "output_type": "stream",
     "text": [
      "beta_0 = 0.002\n",
      "beta_1 = -0.000\n"
     ]
    }
   ],
   "source": [
    "exposure = np.exp(j)\n",
    "fit = poisson_regression(k, exposure=exposure)"
   ]
  },
  {
   "cell_type": "code",
   "execution_count": 10,
   "id": "cbcc47be-0353-4c5d-9abc-040db0ead89b",
   "metadata": {},
   "outputs": [
    {
     "name": "stdout",
     "output_type": "stream",
     "text": [
      "beta_0 = 0.002\n",
      "beta_1 = 0.500\n"
     ]
    }
   ],
   "source": [
    "exposure = np.exp(j / 2)\n",
    "fit = poisson_regression(k, exposure=exposure)"
   ]
  },
  {
   "cell_type": "markdown",
   "id": "053d4c7e-3c0c-4ff3-8d49-04cb82fd95e5",
   "metadata": {},
   "source": [
    "An exposure growing at the same rate as the data cancels out the $\\beta_1$, whereas an exposure growing half as fast cuts it in half.\n",
    "\n",
    "This is the response we'd expect from variable sequencing depth.\n",
    "So if we had a vector that represents the sequencing effort per sample, we should account for it by including keyword `exposure=sequencing_depth` in our `GLM` calls.\n",
    "\n",
    "(Equivalently, we could use `offset=log(sequencing_depth)`, but that's mildly less transparent.)"
   ]
  }
 ],
 "metadata": {
  "kernelspec": {
   "display_name": "Python 3 (ipykernel)",
   "language": "python",
   "name": "python3"
  },
  "language_info": {
   "codemirror_mode": {
    "name": "ipython",
    "version": 3
   },
   "file_extension": ".py",
   "mimetype": "text/x-python",
   "name": "python",
   "nbconvert_exporter": "python",
   "pygments_lexer": "ipython3",
   "version": "3.9.6"
  }
 },
 "nbformat": 4,
 "nbformat_minor": 5
}
